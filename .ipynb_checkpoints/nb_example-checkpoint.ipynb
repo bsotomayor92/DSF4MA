{
 "cells": [
  {
   "cell_type": "code",
   "execution_count": 1,
   "metadata": {},
   "outputs": [],
   "source": [
    "from stop_words import get_stop_words\n",
    "import pandas as pd\n",
    "import warnings\n",
    "import numpy as np\n",
    "\n",
    "import AMP_lib as amp\n",
    "\n",
    "%matplotlib inline\n",
    "warnings.filterwarnings('ignore')"
   ]
  },
  {
   "cell_type": "code",
   "execution_count": 2,
   "metadata": {},
   "outputs": [],
   "source": [
    "# VARIABLES INICIALES #\n",
    "dsname=\"mapuche\"\n",
    "n_max_tokens = 5000\n",
    "n_max_tokens_toprint = 15\n",
    "LDA_max_iter = 30\n",
    "LDA_learning_offset = 50.\n",
    "LDA_random_state = 10\n",
    "ngram_range=(1, 1)"
   ]
  },
  {
   "cell_type": "code",
   "execution_count": null,
   "metadata": {
    "scrolled": true
   },
   "outputs": [
    {
     "name": "stdout",
     "output_type": "stream",
     "text": [
      "[INFO] - Obtención de stop-words y filtros\n",
      "[nltk_data] Downloading package stopwords to /home/boris/nltk_data...\n",
      "[nltk_data]   Package stopwords is already up-to-date!\n",
      "[nltk_data] Downloading package punkt to /home/boris/nltk_data...\n",
      "[nltk_data]   Package punkt is already up-to-date!\n"
     ]
    }
   ],
   "source": [
    "# lectura de datos\n",
    "raw_data = pd.read_csv('dataset/sophia_%s_v2.csv' % dsname, sep='\\n', header=None)\n",
    "\n",
    "# DESCARGA STOP-WORDS\n",
    "# obtener stopwords y aplicar filtro sobre el texto\n",
    "print (\"[INFO] - Obtención de stop-words y filtros\")\n",
    "docs, news_df2, stopwords = amp.stopwordsAndFilters(raw_data)\n",
    "\n",
    "# Vectorización de tokens\n",
    "print (\"[INFO] - Vectorización de Tokens\")\n",
    "tf, tf_feature_names = amp.vectorizer(n_max_tokens=n_max_tokens, stopwords=stopwords, ngram_range=ngram_range, docs=docs)\n",
    "\n",
    "# Análisis de perplexity\n",
    "print (\"[INFO] - Cálculo de perplexity\")\n",
    "amp.plotPerplexity(dsname=dsname, tf=tf, max_topics=15, max_iter=5, learning_offset=50., random_state=50)\n"
   ]
  },
  {
   "cell_type": "markdown",
   "metadata": {},
   "source": [
    "## Resultados\n",
    "En la Figura [fig_index] podemos identificar el menor valor de Perplexity para 3 tópicos. Así, aplicamos LDA con $n\\_topics = 3$."
   ]
  },
  {
   "cell_type": "code",
   "execution_count": null,
   "metadata": {},
   "outputs": [],
   "source": [
    "# Elección de mejor n, según perplexity\n",
    "n_topics = 2\n",
    "\n",
    "# Ejecución de LDA\n",
    "W1, W2, components = amp.computeLDA(tf, n_topics, LDA_max_iter, LDA_learning_offset, LDA_random_state)\n",
    "\n",
    "# asignar tópico a noticias\n",
    "A_lda_keys = []\n",
    "for i in range(W2.shape[0]):\n",
    "    A_lda_keys.append( W2[i].argmax() )\n",
    "\n",
    "news_df_topics = news_df2.assign(topic=np.array(A_lda_keys))"
   ]
  },
  {
   "cell_type": "markdown",
   "metadata": {},
   "source": [
    "### ( ¿Qué representan los tópicos encontrados? Análisis de noticias por tópico )\n",
    "En esta sección es necesario revisar algunas noticias del tópico para encontrar el \"sentido\" u \"orientación\" que representa."
   ]
  },
  {
   "cell_type": "code",
   "execution_count": null,
   "metadata": {},
   "outputs": [],
   "source": [
    "news_df_topics[ news_df_topics['topic']==0 ]['text'][0:10]\n",
    "\n",
    "n_top_topics=10\n",
    "\n",
    "g_topics = news_df_topics.groupby('topic')\n",
    "news_df_topics, topics_list = amp.getNewsWithTopic(tf_feature_names=tf_feature_names, components=components, W2=W2, n_topics=n_topics, news_df_original=news_df2)\n",
    "for topic in range(n_topics):\n",
    "    print(\"TOPIC #%s\" % topic)\n",
    "    print(topics_list[topic][0:10],\"\\n\") # muestra 10 top palabras\n",
    "    print(\"Ejemplo:\")\n",
    "    \n",
    "    for art_text in news_df_topics[ news_df_topics['topic']==topic ]['text'][0:4]:\n",
    "        print(art_text[:300]) # 300 primeros caracteres de la noticia\n",
    "    print(\"\\n-----\\n\")"
   ]
  },
  {
   "cell_type": "markdown",
   "metadata": {},
   "source": [
    "### Tópicos encontrados tras análisis de texto\n",
    "* Topic 0: Mapuche + Socio-político (Pueblo)\n",
    "* Topic 1: Mapuche + Cultura (libro, poesia, música, playlist, youtube)"
   ]
  },
  {
   "cell_type": "code",
   "execution_count": null,
   "metadata": {},
   "outputs": [],
   "source": [
    "# Distribución de noticias del tema\n",
    "news_df_topics['org'].value_counts().plot(kind='bar')\n",
    "\n",
    "print (\"Top 20 medios según cantidad de noticias registradas\")\n",
    "print ((news_df_topics['org'].value_counts()).nlargest(20))\n",
    "\n",
    "# Filtrar top-20 medios:\n",
    "top20_df = (news_df_topics['org'].value_counts()).nlargest(20)#.to_frame()\n",
    "top20_list = top20_df.index.values.tolist()\n",
    "news_df_topics_top20 = news_df_topics.loc[news_df_topics['org'].isin(top20_list)]\n",
    "print(len(news_df_topics_top20))\n"
   ]
  },
  {
   "cell_type": "code",
   "execution_count": null,
   "metadata": {},
   "outputs": [],
   "source": [
    "# plotear el porcentaje de presencia de cada tópico en los medios\n",
    "amp.plotTopicByMedia(dsname=dsname, news_df_topics=news_df_topics_top20, n_topics=n_topics)\n"
   ]
  },
  {
   "cell_type": "code",
   "execution_count": null,
   "metadata": {},
   "outputs": [],
   "source": [
    "## Evolución del tema a través del tiempo\n",
    "amp.plotMediaTimeline(dsname=dsname, data=W2.T)"
   ]
  },
  {
   "cell_type": "markdown",
   "metadata": {},
   "source": [
    "### Material suplementario\n",
    "Cantidad de noticias sobre el tópico que se analiza:"
   ]
  },
  {
   "cell_type": "code",
   "execution_count": null,
   "metadata": {},
   "outputs": [],
   "source": [
    "news_df_topics['org'].value_counts()"
   ]
  },
  {
   "cell_type": "code",
   "execution_count": null,
   "metadata": {},
   "outputs": [],
   "source": []
  }
 ],
 "metadata": {
  "kernelspec": {
   "display_name": "Python 3",
   "language": "python",
   "name": "python3"
  },
  "language_info": {
   "codemirror_mode": {
    "name": "ipython",
    "version": 3
   },
   "file_extension": ".py",
   "mimetype": "text/x-python",
   "name": "python",
   "nbconvert_exporter": "python",
   "pygments_lexer": "ipython3",
   "version": "3.5.2"
  }
 },
 "nbformat": 4,
 "nbformat_minor": 2
}
